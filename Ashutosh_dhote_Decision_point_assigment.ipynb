{
 "cells": [
  {
   "cell_type": "markdown",
   "id": "aa582288",
   "metadata": {},
   "source": [
    "data:\n",
    "    Customer_name,Customer_id,New_Customer_id,updated_date\n",
    "\n",
    "Oliver,213,512,2018-06-12\n",
    "Oliver,512,342,2018-09-01\n",
    "Oliver,342,513,2019-03-06\n",
    "Ethan,413,414,2019-05-04\n",
    "Ethan,414,416,2019-09-02\n",
    "Abigail,326,327,2017-02-13\n",
    "Abigail,327,348,2018-05-23\n",
    "Abigail,348,544,2019-09-27\n",
    "Abigail,544,566,2020-04-09"
   ]
  },
  {
   "cell_type": "markdown",
   "id": "2c3cbdb7",
   "metadata": {},
   "source": [
    "# Importing necessary librabries"
   ]
  },
  {
   "cell_type": "code",
   "execution_count": 1,
   "id": "334733be",
   "metadata": {},
   "outputs": [],
   "source": [
    "import numpy as np \n",
    "import pandas as pd"
   ]
  },
  {
   "cell_type": "markdown",
   "id": "7f1249ae",
   "metadata": {},
   "source": [
    "# converting it into dataframe"
   ]
  },
  {
   "cell_type": "code",
   "execution_count": 2,
   "id": "de24be19",
   "metadata": {},
   "outputs": [],
   "source": [
    "data = {'Customer_name':['Oliver','Oliver','Oliver','Ethan','Ethan','Abigail','Abigail','Abigail','Abigail'],\n",
    "         'Customer_id': [213, 512, 342, 413, 414, 326, 327, 348, 544],\n",
    "    'New_Customer_id': [512, 342, 513, 414, 416, 327, 348, 544, 566],\n",
    "       'updated_date': ['2018-06-12', '2018-09-01', '2019-03-06', '2019-05-04', '2019-09-02', '2017-02-13', '2018-05-23', '2019-09-27', '2020-04-09']}\n"
   ]
  },
  {
   "cell_type": "code",
   "execution_count": 3,
   "id": "d807f3bf",
   "metadata": {},
   "outputs": [],
   "source": [
    "customer = pd.DataFrame(data)"
   ]
  },
  {
   "cell_type": "code",
   "execution_count": 4,
   "id": "5a2564fc",
   "metadata": {},
   "outputs": [
    {
     "data": {
      "text/html": [
       "<div>\n",
       "<style scoped>\n",
       "    .dataframe tbody tr th:only-of-type {\n",
       "        vertical-align: middle;\n",
       "    }\n",
       "\n",
       "    .dataframe tbody tr th {\n",
       "        vertical-align: top;\n",
       "    }\n",
       "\n",
       "    .dataframe thead th {\n",
       "        text-align: right;\n",
       "    }\n",
       "</style>\n",
       "<table border=\"1\" class=\"dataframe\">\n",
       "  <thead>\n",
       "    <tr style=\"text-align: right;\">\n",
       "      <th></th>\n",
       "      <th>Customer_name</th>\n",
       "      <th>Customer_id</th>\n",
       "      <th>New_Customer_id</th>\n",
       "      <th>updated_date</th>\n",
       "    </tr>\n",
       "  </thead>\n",
       "  <tbody>\n",
       "    <tr>\n",
       "      <th>0</th>\n",
       "      <td>Oliver</td>\n",
       "      <td>213</td>\n",
       "      <td>512</td>\n",
       "      <td>2018-06-12</td>\n",
       "    </tr>\n",
       "    <tr>\n",
       "      <th>1</th>\n",
       "      <td>Oliver</td>\n",
       "      <td>512</td>\n",
       "      <td>342</td>\n",
       "      <td>2018-09-01</td>\n",
       "    </tr>\n",
       "    <tr>\n",
       "      <th>2</th>\n",
       "      <td>Oliver</td>\n",
       "      <td>342</td>\n",
       "      <td>513</td>\n",
       "      <td>2019-03-06</td>\n",
       "    </tr>\n",
       "    <tr>\n",
       "      <th>3</th>\n",
       "      <td>Ethan</td>\n",
       "      <td>413</td>\n",
       "      <td>414</td>\n",
       "      <td>2019-05-04</td>\n",
       "    </tr>\n",
       "    <tr>\n",
       "      <th>4</th>\n",
       "      <td>Ethan</td>\n",
       "      <td>414</td>\n",
       "      <td>416</td>\n",
       "      <td>2019-09-02</td>\n",
       "    </tr>\n",
       "    <tr>\n",
       "      <th>5</th>\n",
       "      <td>Abigail</td>\n",
       "      <td>326</td>\n",
       "      <td>327</td>\n",
       "      <td>2017-02-13</td>\n",
       "    </tr>\n",
       "    <tr>\n",
       "      <th>6</th>\n",
       "      <td>Abigail</td>\n",
       "      <td>327</td>\n",
       "      <td>348</td>\n",
       "      <td>2018-05-23</td>\n",
       "    </tr>\n",
       "    <tr>\n",
       "      <th>7</th>\n",
       "      <td>Abigail</td>\n",
       "      <td>348</td>\n",
       "      <td>544</td>\n",
       "      <td>2019-09-27</td>\n",
       "    </tr>\n",
       "    <tr>\n",
       "      <th>8</th>\n",
       "      <td>Abigail</td>\n",
       "      <td>544</td>\n",
       "      <td>566</td>\n",
       "      <td>2020-04-09</td>\n",
       "    </tr>\n",
       "  </tbody>\n",
       "</table>\n",
       "</div>"
      ],
      "text/plain": [
       "  Customer_name  Customer_id  New_Customer_id updated_date\n",
       "0        Oliver          213              512   2018-06-12\n",
       "1        Oliver          512              342   2018-09-01\n",
       "2        Oliver          342              513   2019-03-06\n",
       "3         Ethan          413              414   2019-05-04\n",
       "4         Ethan          414              416   2019-09-02\n",
       "5       Abigail          326              327   2017-02-13\n",
       "6       Abigail          327              348   2018-05-23\n",
       "7       Abigail          348              544   2019-09-27\n",
       "8       Abigail          544              566   2020-04-09"
      ]
     },
     "execution_count": 4,
     "metadata": {},
     "output_type": "execute_result"
    }
   ],
   "source": [
    "customer"
   ]
  },
  {
   "cell_type": "code",
   "execution_count": 5,
   "id": "6a5a8c56",
   "metadata": {},
   "outputs": [],
   "source": [
    "customer['updated_date'] = pd.to_datetime(customer['updated_date'])"
   ]
  },
  {
   "cell_type": "code",
   "execution_count": 6,
   "id": "b374f7b1",
   "metadata": {},
   "outputs": [],
   "source": [
    "# sorting the values of cutomer_name and updated_date into decsneding order \n",
    "customer.sort_values(by = ['Customer_name','updated_date'],ascending = [True,False],inplace = True)"
   ]
  },
  {
   "cell_type": "code",
   "execution_count": 7,
   "id": "b9d24374",
   "metadata": {},
   "outputs": [
    {
     "data": {
      "text/html": [
       "<div>\n",
       "<style scoped>\n",
       "    .dataframe tbody tr th:only-of-type {\n",
       "        vertical-align: middle;\n",
       "    }\n",
       "\n",
       "    .dataframe tbody tr th {\n",
       "        vertical-align: top;\n",
       "    }\n",
       "\n",
       "    .dataframe thead th {\n",
       "        text-align: right;\n",
       "    }\n",
       "</style>\n",
       "<table border=\"1\" class=\"dataframe\">\n",
       "  <thead>\n",
       "    <tr style=\"text-align: right;\">\n",
       "      <th></th>\n",
       "      <th>Customer_name</th>\n",
       "      <th>Customer_id</th>\n",
       "      <th>New_Customer_id</th>\n",
       "      <th>updated_date</th>\n",
       "    </tr>\n",
       "  </thead>\n",
       "  <tbody>\n",
       "    <tr>\n",
       "      <th>8</th>\n",
       "      <td>Abigail</td>\n",
       "      <td>544</td>\n",
       "      <td>566</td>\n",
       "      <td>2020-04-09</td>\n",
       "    </tr>\n",
       "    <tr>\n",
       "      <th>7</th>\n",
       "      <td>Abigail</td>\n",
       "      <td>348</td>\n",
       "      <td>544</td>\n",
       "      <td>2019-09-27</td>\n",
       "    </tr>\n",
       "    <tr>\n",
       "      <th>6</th>\n",
       "      <td>Abigail</td>\n",
       "      <td>327</td>\n",
       "      <td>348</td>\n",
       "      <td>2018-05-23</td>\n",
       "    </tr>\n",
       "    <tr>\n",
       "      <th>5</th>\n",
       "      <td>Abigail</td>\n",
       "      <td>326</td>\n",
       "      <td>327</td>\n",
       "      <td>2017-02-13</td>\n",
       "    </tr>\n",
       "    <tr>\n",
       "      <th>4</th>\n",
       "      <td>Ethan</td>\n",
       "      <td>414</td>\n",
       "      <td>416</td>\n",
       "      <td>2019-09-02</td>\n",
       "    </tr>\n",
       "    <tr>\n",
       "      <th>3</th>\n",
       "      <td>Ethan</td>\n",
       "      <td>413</td>\n",
       "      <td>414</td>\n",
       "      <td>2019-05-04</td>\n",
       "    </tr>\n",
       "    <tr>\n",
       "      <th>2</th>\n",
       "      <td>Oliver</td>\n",
       "      <td>342</td>\n",
       "      <td>513</td>\n",
       "      <td>2019-03-06</td>\n",
       "    </tr>\n",
       "    <tr>\n",
       "      <th>1</th>\n",
       "      <td>Oliver</td>\n",
       "      <td>512</td>\n",
       "      <td>342</td>\n",
       "      <td>2018-09-01</td>\n",
       "    </tr>\n",
       "    <tr>\n",
       "      <th>0</th>\n",
       "      <td>Oliver</td>\n",
       "      <td>213</td>\n",
       "      <td>512</td>\n",
       "      <td>2018-06-12</td>\n",
       "    </tr>\n",
       "  </tbody>\n",
       "</table>\n",
       "</div>"
      ],
      "text/plain": [
       "  Customer_name  Customer_id  New_Customer_id updated_date\n",
       "8       Abigail          544              566   2020-04-09\n",
       "7       Abigail          348              544   2019-09-27\n",
       "6       Abigail          327              348   2018-05-23\n",
       "5       Abigail          326              327   2017-02-13\n",
       "4         Ethan          414              416   2019-09-02\n",
       "3         Ethan          413              414   2019-05-04\n",
       "2        Oliver          342              513   2019-03-06\n",
       "1        Oliver          512              342   2018-09-01\n",
       "0        Oliver          213              512   2018-06-12"
      ]
     },
     "execution_count": 7,
     "metadata": {},
     "output_type": "execute_result"
    }
   ],
   "source": [
    "#overlooking the values are sorted or not\n",
    "customer"
   ]
  },
  {
   "cell_type": "code",
   "execution_count": 8,
   "id": "8e100334",
   "metadata": {},
   "outputs": [],
   "source": [
    "#taking the value of first i.e max of date\n",
    "latest_new_customer_id = customer.groupby('Customer_name').first()['New_Customer_id']"
   ]
  },
  {
   "cell_type": "code",
   "execution_count": 9,
   "id": "962a3a3a",
   "metadata": {},
   "outputs": [
    {
     "data": {
      "text/plain": [
       "Customer_name\n",
       "Abigail    566\n",
       "Ethan      416\n",
       "Oliver     513\n",
       "Name: New_Customer_id, dtype: int64"
      ]
     },
     "execution_count": 9,
     "metadata": {},
     "output_type": "execute_result"
    }
   ],
   "source": [
    "latest_new_customer_id"
   ]
  },
  {
   "cell_type": "markdown",
   "id": "fb8fc450",
   "metadata": {},
   "source": [
    "# result"
   ]
  },
  {
   "cell_type": "code",
   "execution_count": 10,
   "id": "5ac6279c",
   "metadata": {},
   "outputs": [
    {
     "name": "stdout",
     "output_type": "stream",
     "text": [
      "latest new customer ID for Abigail: 566\n",
      "latest new customer ID for Ethan: 416\n",
      "latest new customer ID for Oliver: 513\n"
     ]
    }
   ],
   "source": [
    "for customer_name,new_customer_id in latest_new_customer_id.items():\n",
    "    print(f'latest new customer ID for {customer_name}: {new_customer_id}')"
   ]
  },
  {
   "cell_type": "code",
   "execution_count": 11,
   "id": "5bdafda9",
   "metadata": {},
   "outputs": [],
   "source": [
    "#thank you"
   ]
  },
  {
   "cell_type": "code",
   "execution_count": null,
   "id": "a093afe0",
   "metadata": {},
   "outputs": [],
   "source": []
  }
 ],
 "metadata": {
  "kernelspec": {
   "display_name": "Python 3 (ipykernel)",
   "language": "python",
   "name": "python3"
  },
  "language_info": {
   "codemirror_mode": {
    "name": "ipython",
    "version": 3
   },
   "file_extension": ".py",
   "mimetype": "text/x-python",
   "name": "python",
   "nbconvert_exporter": "python",
   "pygments_lexer": "ipython3",
   "version": "3.9.13"
  }
 },
 "nbformat": 4,
 "nbformat_minor": 5
}
